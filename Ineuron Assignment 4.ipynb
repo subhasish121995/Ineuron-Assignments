{
 "cells": [
  {
   "cell_type": "markdown",
   "metadata": {},
   "source": [
    "1.1 Write a Python Program(with class concepts) to find the area of the triangle using the below\n",
    "formula.\n",
    "area = (s*(s-a)*(s-b)*(s-c)) ** 0.5\n",
    "Function to take the length of the sides of triangle from user should be defined in the parent\n",
    "class and function to calculate the area should be defined in subclass."
   ]
  },
  {
   "cell_type": "code",
   "execution_count": 8,
   "metadata": {},
   "outputs": [
    {
     "name": "stdout",
     "output_type": "stream",
     "text": [
      "Value of a : 6\n",
      "Value of b : 5\n",
      "Value of c : 4\n",
      "Area of the triangle with given side is :  9.921567416492215\n"
     ]
    }
   ],
   "source": [
    "class length():\n",
    "    def __init__(self,a,b,c):\n",
    "        self.a = a\n",
    "        self.b = b\n",
    "        self.c = c\n",
    "class Triangle(length):\n",
    "    def area(self):\n",
    "        s = (self.a + self.b + self.c) / 2\n",
    "        return (s * (s - self.a) * (s - self.b) * (s - self.c)) ** 0.5\n",
    "\n",
    "a,b,c = int(input(\"Value of a : \")) , int(input(\"Value of b : \")) , int(input(\"Value of c : \")) \n",
    "T = Triangle(a,b,c)\n",
    "print(\"Area of the triangle with given side is : \", T.area())"
   ]
  },
  {
   "cell_type": "markdown",
   "metadata": {},
   "source": [
    "1.2 Write a function filter_long_words() that takes a list of words and an integer n and returns\n",
    "the list of words that are longer than n."
   ]
  },
  {
   "cell_type": "code",
   "execution_count": 2,
   "metadata": {},
   "outputs": [
    {
     "name": "stdout",
     "output_type": "stream",
     "text": [
      "Enter the value of n 5\n",
      "Subhasish\n",
      "Scientist\n"
     ]
    }
   ],
   "source": [
    "def filter_long_words():\n",
    "    listofwords = [\"Subhasish\",\"wants\",\"to\",\"be\",\"a\",\"Data\",\"Scientist\"]\n",
    "    n = int(input('Enter the value of n '))\n",
    "    for i in listofwords:\n",
    "        if len(i) > n:\n",
    "                  print(i)\n",
    "filter_long_words()"
   ]
  },
  {
   "cell_type": "markdown",
   "metadata": {},
   "source": [
    "2.1 Write a Python program using function concept that maps list of words into a list of integers\n",
    "representing the lengths of the corresponding words.\n",
    "Hint: If a list [ ab,cde,erty] is passed on to the python function output should come as [2,3,4]\n",
    "Here 2,3 and 4 are the lengths of the words in the list."
   ]
  },
  {
   "cell_type": "code",
   "execution_count": 6,
   "metadata": {},
   "outputs": [
    {
     "name": "stdout",
     "output_type": "stream",
     "text": [
      "List of words :Subhasish is a good boy\n",
      "[9, 2, 1, 4, 3]\n"
     ]
    }
   ],
   "source": [
    "def words_list():\n",
    "    list_of_words = input(\"List of words :\").split()\n",
    "    list_of_integers = []\n",
    "    for i in range(len(list_of_words)):\n",
    "        list_of_integers.append(len(list_of_words[i]))\n",
    "    print(str(list_of_integers))\n",
    "words_list()"
   ]
  },
  {
   "cell_type": "markdown",
   "metadata": {},
   "source": [
    "2.2 Write a Python function which takes a character (i.e. a string of length 1) and returns True if\n",
    "it is a vowel, False otherwise."
   ]
  },
  {
   "cell_type": "code",
   "execution_count": 8,
   "metadata": {},
   "outputs": [
    {
     "name": "stdout",
     "output_type": "stream",
     "text": [
      "Please enter a characteer : a\n",
      "True\n"
     ]
    }
   ],
   "source": [
    "def ifvowel():\n",
    "    character = str(input(\"Please enter a characteer : \"))\n",
    "    if character in (\"a\",\"e\",\"i\",\"o\",\"u\"):\n",
    "        print(\"True\")\n",
    "    else:\n",
    "        print(\"False\")\n",
    "    \n",
    "ifvowel()"
   ]
  }
 ],
 "metadata": {
  "kernelspec": {
   "display_name": "Python 3",
   "language": "python",
   "name": "python3"
  },
  "language_info": {
   "codemirror_mode": {
    "name": "ipython",
    "version": 3
   },
   "file_extension": ".py",
   "mimetype": "text/x-python",
   "name": "python",
   "nbconvert_exporter": "python",
   "pygments_lexer": "ipython3",
   "version": "3.8.3"
  }
 },
 "nbformat": 4,
 "nbformat_minor": 4
}
