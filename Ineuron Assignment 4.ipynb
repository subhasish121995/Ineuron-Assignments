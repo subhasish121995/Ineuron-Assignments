{
 "cells": [
  {
   "cell_type": "markdown",
   "metadata": {},
   "source": [
    "1.1 Write a Python Program(with class concepts) to find the area of the triangle using the below\n",
    "formula.\n",
    "area = (s*(s-a)*(s-b)*(s-c)) ** 0.5\n",
    "Function to take the length of the sides of triangle from user should be defined in the parent\n",
    "class and function to calculate the area should be defined in subclass."
   ]
  },
  {
   "cell_type": "code",
   "execution_count": 8,
   "metadata": {},
   "outputs": [
    {
     "name": "stdout",
     "output_type": "stream",
     "text": [
      "Value of a : 6\n",
      "Value of b : 5\n",
      "Value of c : 4\n",
      "Area of the triangle with given side is :  9.921567416492215\n"
     ]
    }
   ],
   "source": [
    "class length():\n",
    "    def __init__(self,a,b,c):\n",
    "        self.a = a\n",
    "        self.b = b\n",
    "        self.c = c\n",
    "class Triangle(length):\n",
    "    def area(self):\n",
    "        s = (self.a + self.b + self.c) / 2\n",
    "        return (s * (s - self.a) * (s - self.b) * (s - self.c)) ** 0.5\n",
    "\n",
    "a,b,c = int(input(\"Value of a : \")) , int(input(\"Value of b : \")) , int(input(\"Value of c : \")) \n",
    "T = Triangle(a,b,c)\n",
    "print(\"Area of the triangle with given side is : \", T.area())"
   ]
  },
  {
   "cell_type": "markdown",
   "metadata": {},
   "source": [
    "1.2 Write a function filter_long_words() that takes a list of words and an integer n and returns\n",
    "the list of words that are longer than n."
   ]
  },
  {
   "cell_type": "code",
   "execution_count": 28,
   "metadata": {},
   "outputs": [
    {
     "name": "stdout",
     "output_type": "stream",
     "text": [
      "Enter the value of n7\n",
      "Subhasish\n",
      "Scientist\n"
     ]
    }
   ],
   "source": [
    "def filter_long_words():\n",
    "    listofwords = [\"Subhasish\",\"wants\",\"to\",\"be\",\"a\",\"Data\",\"Scientist\"]\n",
    "    n = int(input('Enter the value of n'))\n",
    "    for i in listofwords:\n",
    "        if len(i) > n:\n",
    "                  print(i)\n",
    "filter_long_words()"
   ]
  }
 ],
 "metadata": {
  "kernelspec": {
   "display_name": "Python 3",
   "language": "python",
   "name": "python3"
  },
  "language_info": {
   "codemirror_mode": {
    "name": "ipython",
    "version": 3
   },
   "file_extension": ".py",
   "mimetype": "text/x-python",
   "name": "python",
   "nbconvert_exporter": "python",
   "pygments_lexer": "ipython3",
   "version": "3.8.3"
  }
 },
 "nbformat": 4,
 "nbformat_minor": 4
}
